
    import requests
    from bs4 import BeautifulSoup
    from selenium import webdriver
    from selenium.webdriver.common.by import By
    from selenium.webdriver.support.ui import WebDriverWait
    from selenium.webdriver.support import expected_conditions as EC
    from docx import Document
    import pyautogui
    import time
  
  
    # Inicializa o driver do Chrome com o serviço e opções especificadas
    driver = webdriver.Chrome(options=chrome_options)"

    #opção ler documento em uma pasta
    fonte = "/home/glau/Documentos/pasta_teste/doc_fonte/num_croqui.docx\" #coloque o caminho do seu documento
    doc = Document(fonte) 

    list_linhas = []
    for paragraph in doc.paragraphs:
        linhas = paragraph.text
        list_linhas.append(linhas)

    print(list_linhas)
 
       # Abre o site
    driver.maximize_window()
    driver.get('http://site.com.br')
   
     # Espera até que os campos de login e senha estejam presentes na página
    campo_usuario = WebDriverWait(driver, 10).until(EC.presence_of_element_located((By.NAME, 'login')))
    campo_senha = WebDriverWait(driver, 10).until(EC.presence_of_element_located((By.NAME, 'senha')))
   
    # Preenche os campos de login e senha
    campo_usuario.send_keys('usuario')
    campo_senha.send_keys('senha')
 
      # Encontra e clica no botão de login
  
    botao_login = WebDriverWait(driver, 10).until(EC.presence_of_element_located((By.XPATH, \"//input[@value='LOGAR']\")))
    botao_login.click()
  
  # Aguarda a página carregar após o login
    time.sleep(5)
 
    #opçãot tirar o croqui de uma lista em uma variável
    #ATENÇÃO: se for usar uma lista que deve ser lida direto na pasta de arquivos:
    #comentar a variavel abaixo:pastas e substituir 'pasta' no loop for por list_linhas
    pastas = [\"000.980\", \"000.981\", \"000.985\", \"000.987\", \"103.848\", \"200.494\"]
 
    for i in pastas:
        url = f"https:/site/buscar_doc.php?codigo=&id_fundo=&numero_caixa=&tipo_documento=&id_departamento=&data_de=&data_ate=&numero_processo=&identificador=&fase_corrente=&fase_intermediaria=&autor_redator=&procedencia=&data_limite=&data_limite2=&confidencial=&titulo=&assunto=&croqui={i}&volume_maco=&procedencia=&local_obra=&id_centro_doc=&d_referencia=&nivel_desc=&dimensoes=&condicoes_acesso=&acao=buscar_documentos\"
        driver.get(url)
        pyautogui.scroll(1000)
        try:
            input_selecionar = WebDriverWait(driver, 0.8).until(EC.visibility_of_element_located((By.XPATH, '//*[@id=\"checkbox7\"]')))
            html = driver.page_source
            site = BeautifulSoup(html, 'html.parser')
            inputs = site.find_all('input', id="checkbox7")
            print(inputs)
            num_inputs = len(inputs)
            #print(num_inputs)
            total_inputs = num_inputs
            print(f"{i} Volumes:{total_inputs}")
        except:     
            print(f"Nenhum resultado encontrado para o croqui: {i}")
            time.sleep(0.5)
    driver.quit
   
