{
 "cells": [
  {
   "cell_type": "code",
   "execution_count": null,
   "id": "b4ac624f-bc31-4735-a28f-d5e9503eca65",
   "metadata": {},
   "outputs": [],
   "source": [
    "import requests\n",
    "from bs4 import BeautifulSoup\n",
    "from selenium import webdriver\n",
    "from selenium.webdriver.common.by import By\n",
    "from selenium.webdriver.support.ui import WebDriverWait\n",
    "from selenium.webdriver.support import expected_conditions as EC\n",
    "from docx import Document\n",
    "import pyautogui\n",
    "import time\n",
    "import clipboard"
   ]
  },
  {
   "cell_type": "code",
   "execution_count": null,
   "id": "ef9f44ad-64b1-4710-b6d7-fc8246a6ec87",
   "metadata": {},
   "outputs": [],
   "source": [
    "#2\n",
    "chrome_options = webdriver.ChromeOptions()\n",
    "chrome_options.add_argument('--ignore-certificate-errors')\n",
    "chrome_options.add_experimental_option(\"prefs\", {\n",
    "        \"download.prompt_for_download\": False,\n",
    "        \"download.directory_upgrade\": True,\n",
    "        \"safebrowsing.enabled\": True})\n",
    "\n",
    "\n",
    "# Inicializa o driver do Chrome com o serviço e opções especificadas\n",
    "driver = webdriver.Chrome(options=chrome_options)"
   ]
  },
  {
   "cell_type": "code",
   "execution_count": null,
   "id": "b3342f4a-ab25-4ede-93bf-77216c750869",
   "metadata": {},
   "outputs": [],
   "source": [
    "#opção ler documento em uma pasta\n",
    "fonte = \"/home/glau/Documentos/pasta_teste/doc_fonte/num_croqui.docx\" #coloque o caminho do seu documento\n",
    "    \n",
    "doc = Document(fonte)          \n",
    "\n",
    "list_linhas = []\n",
    "for paragraph in doc.paragraphs:\n",
    "    linhas = paragraph.text\n",
    "    list_linhas.append(linhas)\n",
    "\n",
    "print(list_linhas)"
   ]
  },
  {
   "cell_type": "code",
   "execution_count": null,
   "id": "8e61c31b-7c1d-415f-afdb-ecebb8fa5ef9",
   "metadata": {},
   "outputs": [],
   "source": [
    "    # Abre o site\n",
    "driver.maximize_window()\n",
    "driver.get('http://arquip.otcdoc.com.br')\n",
    "    \n",
    "    # Espera até que os campos de login e senha estejam presentes na página\n",
    "campo_usuario = WebDriverWait(driver, 10).until(EC.presence_of_element_located((By.NAME, 'login')))\n",
    "campo_senha = WebDriverWait(driver, 10).until(EC.presence_of_element_located((By.NAME, 'senha')))\n",
    "    \n",
    "    # Preenche os campos de login e senha\n",
    "campo_usuario.send_keys('cgpatri.glaucy')\n",
    "campo_senha.send_keys('568430')\n",
    "    \n",
    "    # Encontra e clica no botão de login\n",
    "\n",
    "botao_login = WebDriverWait(driver, 10).until(EC.presence_of_element_located((By.XPATH, \"//input[@value='LOGAR']\")))\n",
    "botao_login.click()\n",
    "    \n",
    "    # Aguarda a página carregar após o login\n",
    "time.sleep(5)"
   ]
  },
  {
   "cell_type": "code",
   "execution_count": null,
   "id": "5d74be1b-088f-4389-8571-5bcb9dddf60d",
   "metadata": {},
   "outputs": [],
   "source": [
    "#opçãot tirar o croqui de uma lista em uma variável\n",
    "#ATENÇÃO: se for usar uma lista que deve ser lida direto na pasta de arquivos:\n",
    "#comentar a variavel abaixo:pastas e substituir 'pasta' no loop for por list_linhas\n",
    "\n",
    "pastas = [\"000.980\", \"000.981\", \"000.985\", \"000.987\", \"103.848\", \"200.494\"]\n",
    "\n",
    "\n",
    "for i in pastas: \n",
    "    url = f\"https://arquip.otcdoc.com.br/buscar_doc.php?codigo=&id_fundo=&numero_caixa=&tipo_documento=&id_departamento=&data_de=&data_ate=&numero_processo=&identificador=&fase_corrente=&fase_intermediaria=&autor_redator=&procedencia=&data_limite=&data_limite2=&confidencial=&titulo=&assunto=&croqui=000.981&volume_maco=&procedencia=&local_obra=&id_centro_doc=&d_referencia=&nivel_desc=&dimensoes=&condicoes_acesso=&acao=buscar_documentos\"\n",
    "            #url = f\"http://arquip.otcdoc.com.br/visualizar-documento.php?id={i}\"\n",
    "    driver.get(url)\n",
    "    pyautogui.scroll(1000)\n",
    "    try:\n",
    "        input_selecionar = WebDriverWait(driver, 0.8).until(EC.visibility_of_element_located((By.XPATH, '//*[@id=\"checkbox7\"]')))\n",
    "        html = driver.page_source\n",
    "        site = BeautifulSoup(html, 'html.parser')\n",
    "        inputs = site.find_all('input', id=\"checkbox7\")\n",
    "        print(inputs)\n",
    "        num_inputs = len(inputs)\n",
    "        #print(num_inputs)\n",
    "        total_inputs = num_inputs\n",
    "        print(f\"{i} Volumes:{total_inputs}\")\n",
    "    except:        \n",
    "        print(f\"Nenhum resultado encontrado para o croqui: {i}\")\n",
    "        time.sleep(0.5)\n",
    "driver.quit"
   ]
  }
 ],
 "metadata": {
  "kernelspec": {
   "display_name": "Python 3 (ipykernel)",
   "language": "python",
   "name": "python3"
  },
  "language_info": {
   "codemirror_mode": {
    "name": "ipython",
    "version": 3
   },
   "file_extension": ".py",
   "mimetype": "text/x-python",
   "name": "python",
   "nbconvert_exporter": "python",
   "pygments_lexer": "ipython3",
   "version": "3.10.12"
  }
 },
 "nbformat": 4,
 "nbformat_minor": 5
}
